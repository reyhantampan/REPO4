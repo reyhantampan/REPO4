{
 "cells": [
  {
   "cell_type": "code",
   "execution_count": 3,
   "id": "4cd18522",
   "metadata": {},
   "outputs": [],
   "source": [
    "#import packages\n",
    "import math\n",
    "from nltk import sent_tokenize, word_tokenize, PorterStemmer\n",
    "from nltk.corpus import stopwords   \n",
    "import numpy as np\n",
    "from sklearn.manifold import TSNE\n",
    "import matplotlib.pyplot as plt"
   ]
  },
  {
   "cell_type": "code",
   "execution_count": 4,
   "id": "c6dcfaa1",
   "metadata": {},
   "outputs": [],
   "source": [
    "#text\n",
    "example_text1=\"\"\"ربما كانت أحد أهم التطورات التي قامت بها الرياضيات العربية التي بدأت في هذا الوقت بعمل الخوارزمي و هي بدايات الجبر، و من المهم فهم كيف كانت هذه الفكرة الجديدة مهمة، فقد كانت خطوة ثورية بعيدا عن المفهوم اليوناني للرياضيات التي هي في جوهرها هندسة، الجبر كان نظرية موحدة تتيح الأعداد الكسرية و الأعداد اللا كسرية، و قدم وسيلة للتنمية في هذا الموضوع مستقبلا. و جانب آخر مهم لإدخال أفكار الجبر و هو أنه سمح بتطبيق الرياضيات على نفسها بطريقة لم تحدث من قبل\"\"\"\n",
    "text1 = \"\"\"Perhaps one of the most significant advances made by Arabic mathematics began at this time with the work of al-Khwarizmi, namely \n",
    "the beginnings of algebra. It is important to understand just how significant this new idea was. It was a revolutionary move away from \n",
    "the Greek concept of mathematics which was essentially geometry. Algebra was a unifying theory which allowed rational \n",
    "numbers, irrational numbers, geometrical magnitudes, etc., to all be treated as \"algebraic objects\". It gave mathematics a whole new \n",
    "development path so much broader in concept to that which had existed before, and provided a vehicle for future development of the \n",
    "subject. Another important aspect of the introduction of algebraic ideas was that it allowed mathematics to be applied to itself in a \n",
    "way which had not happened before.\n",
    "\"\"\""
   ]
  },
  {
   "cell_type": "code",
   "execution_count": 5,
   "id": "d27d521a",
   "metadata": {},
   "outputs": [
    {
     "name": "stdout",
     "output_type": "stream",
     "text": [
      "['Perhaps one of the most significant advances made by Arabic mathematics began at this time with the work of al-Khwarizmi, namely \\nthe beginnings of algebra.', 'It is important to understand just how significant this new idea was.', 'It was a revolutionary move away from \\nthe Greek concept of mathematics which was essentially geometry.', 'Algebra was a unifying theory which allowed rational \\nnumbers, irrational numbers, geometrical magnitudes, etc., to all be treated as \"algebraic objects\".', 'It gave mathematics a whole new \\ndevelopment path so much broader in concept to that which had existed before, and provided a vehicle for future development of the \\nsubject.', 'Another important aspect of the introduction of algebraic ideas was that it allowed mathematics to be applied to itself in a \\nway which had not happened before.']\n"
     ]
    }
   ],
   "source": [
    "# 1 Sentence Tokenize\n",
    "sentences = sent_tokenize(text1)\n",
    "total_documents = len(sentences)\n",
    "print(sentences)"
   ]
  },
  {
   "cell_type": "code",
   "execution_count": 6,
   "id": "cb4d966f",
   "metadata": {},
   "outputs": [
    {
     "name": "stdout",
     "output_type": "stream",
     "text": [
      "{'Perhaps one of ': {'perhaps': 1, 'one': 1, 'significant': 1, 'advances': 1, 'made': 1, 'arabic': 1, 'mathematics': 1, 'began': 1, 'time': 1, 'work': 1, 'al-khwarizmi': 1, ',': 1, 'namely': 1, 'beginnings': 1, 'algebra': 1, '.': 1}, 'It is important': {'important': 1, 'understand': 1, 'significant': 1, 'new': 1, 'idea': 1, '.': 1}, 'It was a revolu': {'revolutionary': 1, 'move': 1, 'away': 1, 'greek': 1, 'concept': 1, 'mathematics': 1, 'essentially': 1, 'geometry': 1, '.': 1}, 'Algebra was a u': {'algebra': 1, 'unifying': 1, 'theory': 1, 'allowed': 1, 'rational': 1, 'numbers': 2, ',': 4, 'irrational': 1, 'geometrical': 1, 'magnitudes': 1, 'etc.': 1, 'treated': 1, '``': 1, 'algebraic': 1, 'objects': 1, \"''\": 1, '.': 1}, 'It gave mathema': {'gave': 1, 'mathematics': 1, 'whole': 1, 'new': 1, 'development': 2, 'path': 1, 'much': 1, 'broader': 1, 'concept': 1, 'existed': 1, ',': 1, 'provided': 1, 'vehicle': 1, 'future': 1, 'subject': 1, '.': 1}, 'Another importa': {'another': 1, 'important': 1, 'aspect': 1, 'introduction': 1, 'algebraic': 1, 'ideas': 1, 'allowed': 1, 'mathematics': 1, 'applied': 1, 'way': 1, 'happened': 1, '.': 1}}\n"
     ]
    }
   ],
   "source": [
    "# 2 Create the Frequency matrix of the words in each sentence\n",
    "def create_frequency_matrix(sentences):\n",
    "    frequency_matrix = {}\n",
    "    stopWords = set(stopwords.words(\"english\"))\n",
    "    ps = PorterStemmer()\n",
    "\n",
    "    for sent in sentences:\n",
    "        freq_table = {}\n",
    "        words = word_tokenize(sent)\n",
    "        for word in words:\n",
    "            word = word.lower()\n",
    "            \n",
    "            if word in stopWords:\n",
    "                continue\n",
    "\n",
    "            if word in freq_table:\n",
    "                freq_table[word] += 1\n",
    "            else:\n",
    "                freq_table[word] = 1\n",
    "\n",
    "        frequency_matrix[sent[:15]] = freq_table\n",
    "\n",
    "    return frequency_matrix\n",
    "\n",
    "freq_matrix = create_frequency_matrix(sentences)\n",
    "print(freq_matrix)"
   ]
  },
  {
   "cell_type": "code",
   "execution_count": 7,
   "id": "e8ae45f5",
   "metadata": {},
   "outputs": [
    {
     "name": "stdout",
     "output_type": "stream",
     "text": [
      "{'Perhaps one of ': {'perhaps': 0.0625, 'one': 0.0625, 'significant': 0.0625, 'advances': 0.0625, 'made': 0.0625, 'arabic': 0.0625, 'mathematics': 0.0625, 'began': 0.0625, 'time': 0.0625, 'work': 0.0625, 'al-khwarizmi': 0.0625, ',': 0.0625, 'namely': 0.0625, 'beginnings': 0.0625, 'algebra': 0.0625, '.': 0.0625}, 'It is important': {'important': 0.16666666666666666, 'understand': 0.16666666666666666, 'significant': 0.16666666666666666, 'new': 0.16666666666666666, 'idea': 0.16666666666666666, '.': 0.16666666666666666}, 'It was a revolu': {'revolutionary': 0.1111111111111111, 'move': 0.1111111111111111, 'away': 0.1111111111111111, 'greek': 0.1111111111111111, 'concept': 0.1111111111111111, 'mathematics': 0.1111111111111111, 'essentially': 0.1111111111111111, 'geometry': 0.1111111111111111, '.': 0.1111111111111111}, 'Algebra was a u': {'algebra': 0.058823529411764705, 'unifying': 0.058823529411764705, 'theory': 0.058823529411764705, 'allowed': 0.058823529411764705, 'rational': 0.058823529411764705, 'numbers': 0.11764705882352941, ',': 0.23529411764705882, 'irrational': 0.058823529411764705, 'geometrical': 0.058823529411764705, 'magnitudes': 0.058823529411764705, 'etc.': 0.058823529411764705, 'treated': 0.058823529411764705, '``': 0.058823529411764705, 'algebraic': 0.058823529411764705, 'objects': 0.058823529411764705, \"''\": 0.058823529411764705, '.': 0.058823529411764705}, 'It gave mathema': {'gave': 0.0625, 'mathematics': 0.0625, 'whole': 0.0625, 'new': 0.0625, 'development': 0.125, 'path': 0.0625, 'much': 0.0625, 'broader': 0.0625, 'concept': 0.0625, 'existed': 0.0625, ',': 0.0625, 'provided': 0.0625, 'vehicle': 0.0625, 'future': 0.0625, 'subject': 0.0625, '.': 0.0625}, 'Another importa': {'another': 0.08333333333333333, 'important': 0.08333333333333333, 'aspect': 0.08333333333333333, 'introduction': 0.08333333333333333, 'algebraic': 0.08333333333333333, 'ideas': 0.08333333333333333, 'allowed': 0.08333333333333333, 'mathematics': 0.08333333333333333, 'applied': 0.08333333333333333, 'way': 0.08333333333333333, 'happened': 0.08333333333333333, '.': 0.08333333333333333}}\n"
     ]
    }
   ],
   "source": [
    "# 3 Calculate TF\n",
    "def create_tf_matrix(freq_matrix):\n",
    "    tf_matrix = {}\n",
    "\n",
    "    for sent, f_table in freq_matrix.items():\n",
    "        tf_table = {}\n",
    "\n",
    "        count_words_in_sentence = len(f_table)\n",
    "        for word, count in f_table.items():\n",
    "            tf_table[word] = count / count_words_in_sentence\n",
    "\n",
    "        tf_matrix[sent] = tf_table\n",
    "\n",
    "    return tf_matrix\n",
    "tf_matrix = create_tf_matrix(freq_matrix)\n",
    "print(tf_matrix)"
   ]
  },
  {
   "cell_type": "code",
   "execution_count": 8,
   "id": "5bd33173",
   "metadata": {},
   "outputs": [
    {
     "name": "stdout",
     "output_type": "stream",
     "text": [
      "{'perhaps': 1, 'one': 1, 'significant': 2, 'advances': 1, 'made': 1, 'arabic': 1, 'mathematics': 4, 'began': 1, 'time': 1, 'work': 1, 'al-khwarizmi': 1, ',': 3, 'namely': 1, 'beginnings': 1, 'algebra': 2, '.': 6, 'important': 2, 'understand': 1, 'new': 2, 'idea': 1, 'revolutionary': 1, 'move': 1, 'away': 1, 'greek': 1, 'concept': 2, 'essentially': 1, 'geometry': 1, 'unifying': 1, 'theory': 1, 'allowed': 2, 'rational': 1, 'numbers': 1, 'irrational': 1, 'geometrical': 1, 'magnitudes': 1, 'etc.': 1, 'treated': 1, '``': 1, 'algebraic': 2, 'objects': 1, \"''\": 1, 'gave': 1, 'whole': 1, 'development': 1, 'path': 1, 'much': 1, 'broader': 1, 'existed': 1, 'provided': 1, 'vehicle': 1, 'future': 1, 'subject': 1, 'another': 1, 'aspect': 1, 'introduction': 1, 'ideas': 1, 'applied': 1, 'way': 1, 'happened': 1}\n"
     ]
    }
   ],
   "source": [
    "# 4 creating table for documents per words\n",
    "def create_documents_per_words(freq_matrix):\n",
    "    word_per_doc_table = {}\n",
    "\n",
    "    for sent, f_table in freq_matrix.items():\n",
    "        for word, count in f_table.items():\n",
    "            if word in word_per_doc_table:\n",
    "                word_per_doc_table[word] += 1\n",
    "            else:\n",
    "                word_per_doc_table[word] = 1\n",
    "\n",
    "    return word_per_doc_table\n",
    "count_doc_per_words = create_documents_per_words(freq_matrix)\n",
    "print(count_doc_per_words)"
   ]
  },
  {
   "cell_type": "code",
   "execution_count": 9,
   "id": "945eb7dc",
   "metadata": {},
   "outputs": [
    {
     "name": "stdout",
     "output_type": "stream",
     "text": [
      "{'Perhaps one of ': {'perhaps': 0.7781512503836436, 'one': 0.7781512503836436, 'significant': 0.47712125471966244, 'advances': 0.7781512503836436, 'made': 0.7781512503836436, 'arabic': 0.7781512503836436, 'mathematics': 0.17609125905568124, 'began': 0.7781512503836436, 'time': 0.7781512503836436, 'work': 0.7781512503836436, 'al-khwarizmi': 0.7781512503836436, ',': 0.3010299956639812, 'namely': 0.7781512503836436, 'beginnings': 0.7781512503836436, 'algebra': 0.47712125471966244, '.': 0.0}, 'It is important': {'important': 0.47712125471966244, 'understand': 0.7781512503836436, 'significant': 0.47712125471966244, 'new': 0.47712125471966244, 'idea': 0.7781512503836436, '.': 0.0}, 'It was a revolu': {'revolutionary': 0.7781512503836436, 'move': 0.7781512503836436, 'away': 0.7781512503836436, 'greek': 0.7781512503836436, 'concept': 0.47712125471966244, 'mathematics': 0.17609125905568124, 'essentially': 0.7781512503836436, 'geometry': 0.7781512503836436, '.': 0.0}, 'Algebra was a u': {'algebra': 0.47712125471966244, 'unifying': 0.7781512503836436, 'theory': 0.7781512503836436, 'allowed': 0.47712125471966244, 'rational': 0.7781512503836436, 'numbers': 0.7781512503836436, ',': 0.3010299956639812, 'irrational': 0.7781512503836436, 'geometrical': 0.7781512503836436, 'magnitudes': 0.7781512503836436, 'etc.': 0.7781512503836436, 'treated': 0.7781512503836436, '``': 0.7781512503836436, 'algebraic': 0.47712125471966244, 'objects': 0.7781512503836436, \"''\": 0.7781512503836436, '.': 0.0}, 'It gave mathema': {'gave': 0.7781512503836436, 'mathematics': 0.17609125905568124, 'whole': 0.7781512503836436, 'new': 0.47712125471966244, 'development': 0.7781512503836436, 'path': 0.7781512503836436, 'much': 0.7781512503836436, 'broader': 0.7781512503836436, 'concept': 0.47712125471966244, 'existed': 0.7781512503836436, ',': 0.3010299956639812, 'provided': 0.7781512503836436, 'vehicle': 0.7781512503836436, 'future': 0.7781512503836436, 'subject': 0.7781512503836436, '.': 0.0}, 'Another importa': {'another': 0.7781512503836436, 'important': 0.47712125471966244, 'aspect': 0.7781512503836436, 'introduction': 0.7781512503836436, 'algebraic': 0.47712125471966244, 'ideas': 0.7781512503836436, 'allowed': 0.47712125471966244, 'mathematics': 0.17609125905568124, 'applied': 0.7781512503836436, 'way': 0.7781512503836436, 'happened': 0.7781512503836436, '.': 0.0}}\n"
     ]
    }
   ],
   "source": [
    "# 5 Calculate IDF\n",
    "def create_idf_matrix(freq_matrix, count_doc_per_words, total_documents):\n",
    "    idf_matrix = {}\n",
    "\n",
    "    for sent, f_table in freq_matrix.items():\n",
    "        idf_table = {}\n",
    "\n",
    "        for word in f_table.keys():\n",
    "            idf_table[word] = math.log10(total_documents / float(count_doc_per_words[word]))\n",
    "\n",
    "        idf_matrix[sent] = idf_table\n",
    "\n",
    "    return idf_matrix\n",
    "idf_matrix = create_idf_matrix(freq_matrix, count_doc_per_words, total_documents)\n",
    "print(idf_matrix)"
   ]
  },
  {
   "cell_type": "code",
   "execution_count": 10,
   "id": "b5b63ccf",
   "metadata": {},
   "outputs": [
    {
     "name": "stdout",
     "output_type": "stream",
     "text": [
      "{'Perhaps one of ': {'perhaps': 0.04863445314897773, 'one': 0.04863445314897773, 'significant': 0.029820078419978902, 'advances': 0.04863445314897773, 'made': 0.04863445314897773, 'arabic': 0.04863445314897773, 'mathematics': 0.011005703690980077, 'began': 0.04863445314897773, 'time': 0.04863445314897773, 'work': 0.04863445314897773, 'al-khwarizmi': 0.04863445314897773, ',': 0.018814374728998825, 'namely': 0.04863445314897773, 'beginnings': 0.04863445314897773, 'algebra': 0.029820078419978902, '.': 0.0}, 'It is important': {'important': 0.07952020911994373, 'understand': 0.1296918750639406, 'significant': 0.07952020911994373, 'new': 0.07952020911994373, 'idea': 0.1296918750639406, '.': 0.0}, 'It was a revolu': {'revolutionary': 0.08646125004262707, 'move': 0.08646125004262707, 'away': 0.08646125004262707, 'greek': 0.08646125004262707, 'concept': 0.05301347274662915, 'mathematics': 0.01956569545063125, 'essentially': 0.08646125004262707, 'geometry': 0.08646125004262707, '.': 0.0}, 'Algebra was a u': {'algebra': 0.028065956159980143, 'unifying': 0.04577360296374374, 'theory': 0.04577360296374374, 'allowed': 0.028065956159980143, 'rational': 0.04577360296374374, 'numbers': 0.09154720592748748, ',': 0.0708305872150544, 'irrational': 0.04577360296374374, 'geometrical': 0.04577360296374374, 'magnitudes': 0.04577360296374374, 'etc.': 0.04577360296374374, 'treated': 0.04577360296374374, '``': 0.04577360296374374, 'algebraic': 0.028065956159980143, 'objects': 0.04577360296374374, \"''\": 0.04577360296374374, '.': 0.0}, 'It gave mathema': {'gave': 0.04863445314897773, 'mathematics': 0.011005703690980077, 'whole': 0.04863445314897773, 'new': 0.029820078419978902, 'development': 0.09726890629795545, 'path': 0.04863445314897773, 'much': 0.04863445314897773, 'broader': 0.04863445314897773, 'concept': 0.029820078419978902, 'existed': 0.04863445314897773, ',': 0.018814374728998825, 'provided': 0.04863445314897773, 'vehicle': 0.04863445314897773, 'future': 0.04863445314897773, 'subject': 0.04863445314897773, '.': 0.0}, 'Another importa': {'another': 0.0648459375319703, 'important': 0.039760104559971865, 'aspect': 0.0648459375319703, 'introduction': 0.0648459375319703, 'algebraic': 0.039760104559971865, 'ideas': 0.0648459375319703, 'allowed': 0.039760104559971865, 'mathematics': 0.014674271587973436, 'applied': 0.0648459375319703, 'way': 0.0648459375319703, 'happened': 0.0648459375319703, '.': 0.0}}\n"
     ]
    }
   ],
   "source": [
    "# 6 Calculate TF-IDF \n",
    "def create_tf_idf_matrix(tf_matrix, idf_matrix):\n",
    "    tf_idf_matrix = {}\n",
    "\n",
    "    for (sent1, f_table1), (sent2, f_table2) in zip(tf_matrix.items(), idf_matrix.items()):\n",
    "\n",
    "        tf_idf_table = {}\n",
    "\n",
    "        for (word1, value1), (word2, value2) in zip(f_table1.items(),\n",
    "                                                    f_table2.items()):  \n",
    "            tf_idf_table[word1] = float(value1 * value2)\n",
    "\n",
    "        tf_idf_matrix[sent1] = tf_idf_table\n",
    "\n",
    "    return tf_idf_matrix\n",
    "tf_idf_matrix = create_tf_idf_matrix(tf_matrix, idf_matrix)\n",
    "print(tf_idf_matrix)"
   ]
  },
  {
   "cell_type": "code",
   "execution_count": 11,
   "id": "5907f713",
   "metadata": {},
   "outputs": [],
   "source": [
    "corpus = ['Perhaps one of the most significant advances made by Arabic mathematics began at this time with the work of al-Khwarizmi, namely the beginnings of algebra.', \n",
    "          'It is important to understand just how significant this new idea was.', \n",
    "          'It was a revolutionary move away from the Greek concept of mathematics which was essentially geometry.',\n",
    "          'Algebra was a unifying theory which allowed rational numbers, irrational numbers, geometrical magnitudes, etc., to all be treated as \"algebraic objects\".',\n",
    "          'It gave mathematics a whole new development path so much broader in concept to that which had existed before, and provided a vehicle for future development of the subject.',\n",
    "          'Another important aspect of the introduction of algebraic ideas was that it allowed mathematics to be applied to itself in a way which had not happened before.'\n",
    "          ]"
   ]
  },
  {
   "cell_type": "code",
   "execution_count": 12,
   "id": "81abed24",
   "metadata": {},
   "outputs": [],
   "source": [
    "#remove stop words from the corpus\n",
    "\n",
    "def remove_stop_words(corpus):\n",
    "    stop_words = set(stopwords.words(\"english\"))\n",
    "    results = []\n",
    "    for text in corpus:\n",
    "        tmp = text.split(' ')\n",
    "        for stop_word in stop_words:\n",
    "            if stop_word in tmp:\n",
    "                tmp.remove(stop_word)\n",
    "        results.append(\" \".join(tmp))\n",
    "    \n",
    "    return results"
   ]
  },
  {
   "cell_type": "code",
   "execution_count": 13,
   "id": "260dcd56",
   "metadata": {},
   "outputs": [],
   "source": [
    "corpus = remove_stop_words(corpus)"
   ]
  },
  {
   "cell_type": "code",
   "execution_count": 14,
   "id": "1f0f6077",
   "metadata": {},
   "outputs": [],
   "source": [
    "words = []\n",
    "for text in corpus:\n",
    "    for word in text.split(' '):\n",
    "        words.append(word)\n",
    "\n",
    "words = set(words)"
   ]
  },
  {
   "cell_type": "code",
   "execution_count": 18,
   "id": "f14f5bc5",
   "metadata": {},
   "outputs": [
    {
     "data": {
      "text/plain": [
       "{'\"algebraic',\n",
       " 'Algebra',\n",
       " 'Another',\n",
       " 'Arabic',\n",
       " 'Greek',\n",
       " 'It',\n",
       " 'Perhaps',\n",
       " 'a',\n",
       " 'advances',\n",
       " 'al-Khwarizmi,',\n",
       " 'algebra.',\n",
       " 'algebraic',\n",
       " 'allowed',\n",
       " 'applied',\n",
       " 'aspect',\n",
       " 'away',\n",
       " 'before,',\n",
       " 'before.',\n",
       " 'began',\n",
       " 'beginnings',\n",
       " 'broader',\n",
       " 'concept',\n",
       " 'development',\n",
       " 'essentially',\n",
       " 'etc.,',\n",
       " 'existed',\n",
       " 'future',\n",
       " 'gave',\n",
       " 'geometrical',\n",
       " 'geometry.',\n",
       " 'happened',\n",
       " 'idea',\n",
       " 'ideas',\n",
       " 'important',\n",
       " 'introduction',\n",
       " 'irrational',\n",
       " 'made',\n",
       " 'magnitudes,',\n",
       " 'mathematics',\n",
       " 'move',\n",
       " 'much',\n",
       " 'namely',\n",
       " 'new',\n",
       " 'numbers,',\n",
       " 'objects\".',\n",
       " 'of',\n",
       " 'one',\n",
       " 'path',\n",
       " 'provided',\n",
       " 'rational',\n",
       " 'revolutionary',\n",
       " 'significant',\n",
       " 'subject.',\n",
       " 'the',\n",
       " 'theory',\n",
       " 'time',\n",
       " 'to',\n",
       " 'treated',\n",
       " 'understand',\n",
       " 'unifying',\n",
       " 'vehicle',\n",
       " 'was',\n",
       " 'was.',\n",
       " 'way',\n",
       " 'whole',\n",
       " 'work'}"
      ]
     },
     "execution_count": 18,
     "metadata": {},
     "output_type": "execute_result"
    }
   ],
   "source": [
    "\n",
    "words"
   ]
  },
  {
   "cell_type": "code",
   "execution_count": 19,
   "id": "e14adf83",
   "metadata": {},
   "outputs": [],
   "source": [
    "#data generation \n",
    "#we will generate label for each word using skip gram\n",
    "word2int = {}\n",
    "\n",
    "for i,word in enumerate(words):\n",
    "    word2int[word] = i\n",
    "\n",
    "sentences = []\n",
    "for sentence in corpus:\n",
    "    sentences.append(sentence.split())\n",
    "    \n",
    "WINDOW_SIZE = 2\n",
    "\n",
    "data = []\n",
    "for sentence in sentences:\n",
    "    for idx, word in enumerate(sentence):\n",
    "        for neighbor in sentence[max(idx - WINDOW_SIZE, 0) : min(idx + WINDOW_SIZE, len(sentence)) + 1] : \n",
    "            if neighbor != word:\n",
    "                data.append([word, neighbor])"
   ]
  },
  {
   "cell_type": "code",
   "execution_count": 20,
   "id": "18c9e950",
   "metadata": {},
   "outputs": [
    {
     "name": "stdout",
     "output_type": "stream",
     "text": [
      "Perhaps one significant advances made Arabic mathematics began time the work of al-Khwarizmi, namely the beginnings of algebra.\n",
      "It important understand significant new idea was.\n",
      "It revolutionary move away Greek concept mathematics was essentially geometry.\n",
      "Algebra unifying theory allowed rational numbers, irrational numbers, geometrical magnitudes, etc., treated \"algebraic objects\".\n",
      "It gave mathematics whole new development path much broader concept existed before, provided a vehicle future development subject.\n",
      "Another important aspect introduction of algebraic ideas allowed mathematics applied to way happened before.\n"
     ]
    }
   ],
   "source": [
    "import pandas as pd\n",
    "for text in corpus:\n",
    "    print(text)\n",
    "\n",
    "df = pd.DataFrame(data, columns = ['input', 'label'])"
   ]
  },
  {
   "cell_type": "code",
   "execution_count": 21,
   "id": "de62a595",
   "metadata": {},
   "outputs": [
    {
     "data": {
      "text/html": [
       "<div>\n",
       "<style scoped>\n",
       "    .dataframe tbody tr th:only-of-type {\n",
       "        vertical-align: middle;\n",
       "    }\n",
       "\n",
       "    .dataframe tbody tr th {\n",
       "        vertical-align: top;\n",
       "    }\n",
       "\n",
       "    .dataframe thead th {\n",
       "        text-align: right;\n",
       "    }\n",
       "</style>\n",
       "<table border=\"1\" class=\"dataframe\">\n",
       "  <thead>\n",
       "    <tr style=\"text-align: right;\">\n",
       "      <th></th>\n",
       "      <th>input</th>\n",
       "      <th>label</th>\n",
       "    </tr>\n",
       "  </thead>\n",
       "  <tbody>\n",
       "    <tr>\n",
       "      <th>0</th>\n",
       "      <td>Perhaps</td>\n",
       "      <td>one</td>\n",
       "    </tr>\n",
       "    <tr>\n",
       "      <th>1</th>\n",
       "      <td>Perhaps</td>\n",
       "      <td>significant</td>\n",
       "    </tr>\n",
       "    <tr>\n",
       "      <th>2</th>\n",
       "      <td>one</td>\n",
       "      <td>Perhaps</td>\n",
       "    </tr>\n",
       "    <tr>\n",
       "      <th>3</th>\n",
       "      <td>one</td>\n",
       "      <td>significant</td>\n",
       "    </tr>\n",
       "    <tr>\n",
       "      <th>4</th>\n",
       "      <td>one</td>\n",
       "      <td>advances</td>\n",
       "    </tr>\n",
       "    <tr>\n",
       "      <th>5</th>\n",
       "      <td>significant</td>\n",
       "      <td>Perhaps</td>\n",
       "    </tr>\n",
       "    <tr>\n",
       "      <th>6</th>\n",
       "      <td>significant</td>\n",
       "      <td>one</td>\n",
       "    </tr>\n",
       "    <tr>\n",
       "      <th>7</th>\n",
       "      <td>significant</td>\n",
       "      <td>advances</td>\n",
       "    </tr>\n",
       "    <tr>\n",
       "      <th>8</th>\n",
       "      <td>significant</td>\n",
       "      <td>made</td>\n",
       "    </tr>\n",
       "    <tr>\n",
       "      <th>9</th>\n",
       "      <td>advances</td>\n",
       "      <td>one</td>\n",
       "    </tr>\n",
       "  </tbody>\n",
       "</table>\n",
       "</div>"
      ],
      "text/plain": [
       "         input        label\n",
       "0      Perhaps          one\n",
       "1      Perhaps  significant\n",
       "2          one      Perhaps\n",
       "3          one  significant\n",
       "4          one     advances\n",
       "5  significant      Perhaps\n",
       "6  significant          one\n",
       "7  significant     advances\n",
       "8  significant         made\n",
       "9     advances          one"
      ]
     },
     "execution_count": 21,
     "metadata": {},
     "output_type": "execute_result"
    }
   ],
   "source": [
    "df.head(10)"
   ]
  },
  {
   "cell_type": "code",
   "execution_count": 22,
   "id": "c9524790",
   "metadata": {},
   "outputs": [
    {
     "data": {
      "text/plain": [
       "(286, 2)"
      ]
     },
     "execution_count": 22,
     "metadata": {},
     "output_type": "execute_result"
    }
   ],
   "source": [
    "df.shape"
   ]
  },
  {
   "cell_type": "code",
   "execution_count": 23,
   "id": "e6298c1f",
   "metadata": {},
   "outputs": [
    {
     "data": {
      "text/plain": [
       "{'Perhaps': 0,\n",
       " 'vehicle': 1,\n",
       " 'idea': 2,\n",
       " 'whole': 3,\n",
       " 'Greek': 4,\n",
       " 'introduction': 5,\n",
       " 'algebraic': 6,\n",
       " 'was': 7,\n",
       " 'Algebra': 8,\n",
       " 'subject.': 9,\n",
       " 'to': 10,\n",
       " 'provided': 11,\n",
       " 'rational': 12,\n",
       " 'geometrical': 13,\n",
       " 'namely': 14,\n",
       " 'made': 15,\n",
       " 'etc.,': 16,\n",
       " 'the': 17,\n",
       " 'work': 18,\n",
       " 'advances': 19,\n",
       " 'allowed': 20,\n",
       " 'development': 21,\n",
       " 'before,': 22,\n",
       " 'revolutionary': 23,\n",
       " 'treated': 24,\n",
       " 'Arabic': 25,\n",
       " 'al-Khwarizmi,': 26,\n",
       " 'before.': 27,\n",
       " 'of': 28,\n",
       " 'geometry.': 29,\n",
       " 'broader': 30,\n",
       " 'numbers,': 31,\n",
       " 'irrational': 32,\n",
       " 'ideas': 33,\n",
       " 'way': 34,\n",
       " 'theory': 35,\n",
       " 'understand': 36,\n",
       " 'magnitudes,': 37,\n",
       " 'gave': 38,\n",
       " 'applied': 39,\n",
       " 'mathematics': 40,\n",
       " 'Another': 41,\n",
       " 'significant': 42,\n",
       " 'It': 43,\n",
       " 'much': 44,\n",
       " 'existed': 45,\n",
       " 'began': 46,\n",
       " 'a': 47,\n",
       " 'algebra.': 48,\n",
       " 'new': 49,\n",
       " 'unifying': 50,\n",
       " 'objects\".': 51,\n",
       " 'happened': 52,\n",
       " 'time': 53,\n",
       " 'was.': 54,\n",
       " 'important': 55,\n",
       " '\"algebraic': 56,\n",
       " 'one': 57,\n",
       " 'beginnings': 58,\n",
       " 'move': 59,\n",
       " 'essentially': 60,\n",
       " 'aspect': 61,\n",
       " 'away': 62,\n",
       " 'future': 63,\n",
       " 'path': 64,\n",
       " 'concept': 65}"
      ]
     },
     "execution_count": 23,
     "metadata": {},
     "output_type": "execute_result"
    }
   ],
   "source": [
    "\n",
    "word2int"
   ]
  },
  {
   "cell_type": "code",
   "execution_count": 26,
   "id": "558807d5",
   "metadata": {},
   "outputs": [
    {
     "name": "stdout",
     "output_type": "stream",
     "text": [
      "WARNING:tensorflow:From C:\\Users\\dell\\miniconda3\\lib\\site-packages\\tensorflow\\python\\compat\\v2_compat.py:96: disable_resource_variables (from tensorflow.python.ops.variable_scope) is deprecated and will be removed in a future version.\n",
      "Instructions for updating:\n",
      "non-resource variables are not supported in the long term\n"
     ]
    }
   ],
   "source": [
    "#Define Tensorflow Graph\n",
    "import tensorflow.compat.v1 as tf\n",
    "tf.disable_v2_behavior() \n",
    "import numpy as np\n",
    "\n",
    "ONE_HOT_DIM = len(words)\n",
    "\n",
    "# function to convert numbers to one hot vectors\n",
    "def to_one_hot_encoding(data_point_index):\n",
    "    one_hot_encoding = np.zeros(ONE_HOT_DIM)\n",
    "    one_hot_encoding[data_point_index] = 1\n",
    "    return one_hot_encoding\n",
    "\n",
    "X = [] # input word\n",
    "Y = [] # target word\n",
    "\n",
    "for x, y in zip(df['input'], df['label']):\n",
    "    X.append(to_one_hot_encoding(word2int[ x ]))\n",
    "    Y.append(to_one_hot_encoding(word2int[ y ]))\n",
    "\n",
    "# convert them to numpy arrays\n",
    "X_train = np.asarray(X)\n",
    "Y_train = np.asarray(Y)\n",
    "\n",
    "# making placeholders for X_train and Y_train\n",
    "x = tf.placeholder(tf.float32, shape=(None, ONE_HOT_DIM))\n",
    "y_label = tf.placeholder(tf.float32, shape=(None, ONE_HOT_DIM))\n",
    "\n",
    "# word embedding will be 2 dimension for 2d visualization\n",
    "EMBEDDING_DIM = 2 \n",
    "\n",
    "# hidden layer: which represents word vector eventually\n",
    "W1 = tf.Variable(tf.random_normal([ONE_HOT_DIM, EMBEDDING_DIM]))\n",
    "b1 = tf.Variable(tf.random_normal([1])) #bias\n",
    "hidden_layer = tf.add(tf.matmul(x,W1), b1)\n",
    "# output layer\n",
    "W2 = tf.Variable(tf.random_normal([EMBEDDING_DIM, ONE_HOT_DIM]))\n",
    "b2 = tf.Variable(tf.random_normal([1]))\n",
    "prediction = tf.nn.softmax(tf.add( tf.matmul(hidden_layer, W2), b2))\n",
    "\n",
    "# loss function: cross entropy\n",
    "loss = tf.reduce_mean(-tf.reduce_sum(y_label * tf.log(prediction), axis=[1]))\n",
    "\n",
    "# training operation\n",
    "train_op = tf.train.GradientDescentOptimizer(0.05).minimize(loss)"
   ]
  },
  {
   "cell_type": "code",
   "execution_count": 27,
   "id": "84858757",
   "metadata": {},
   "outputs": [
    {
     "name": "stdout",
     "output_type": "stream",
     "text": [
      "iteration 0 loss is :  5.495717\n",
      "iteration 3000 loss is :  3.756131\n",
      "iteration 6000 loss is :  3.3701327\n",
      "iteration 9000 loss is :  3.129861\n",
      "iteration 12000 loss is :  3.016182\n",
      "iteration 15000 loss is :  2.9539354\n",
      "iteration 18000 loss is :  2.9123774\n"
     ]
    }
   ],
   "source": [
    "#training\n",
    "sess = tf.Session()\n",
    "init = tf.global_variables_initializer()\n",
    "sess.run(init) \n",
    "\n",
    "iteration = 20000\n",
    "for i in range(iteration):\n",
    "    # input is X_train which is one hot encoded word\n",
    "    # label is Y_train which is one hot encoded neighbor word\n",
    "    sess.run(train_op, feed_dict={x: X_train, y_label: Y_train})\n",
    "    if i % 3000 == 0:\n",
    "        print('iteration '+str(i)+' loss is : ', sess.run(loss, feed_dict={x: X_train, y_label: Y_train}))"
   ]
  },
  {
   "cell_type": "code",
   "execution_count": 28,
   "id": "a2328096",
   "metadata": {},
   "outputs": [
    {
     "name": "stdout",
     "output_type": "stream",
     "text": [
      "[[-1.5406795e-01 -1.9953938e+00]\n",
      " [-2.2004333e+00  2.4723275e+00]\n",
      " [-3.3510652e-01 -8.3361566e-02]\n",
      " [-2.5290364e-01 -5.6651235e-04]\n",
      " [-2.3257092e-01 -8.7792289e-01]\n",
      " [-2.8888223e-01 -2.3401000e+00]\n",
      " [ 4.8704988e-01 -1.4742670e+00]\n",
      " [-1.0282227e+00 -5.8085710e-01]\n",
      " [ 2.1235631e+00 -1.8557112e-01]\n",
      " [-1.3811061e+00  2.2802286e+00]\n",
      " [ 1.8892529e+00 -2.9729028e+00]\n",
      " [-2.4533632e+00  1.8281450e+00]\n",
      " [ 3.0906155e+00  2.9388028e-01]\n",
      " [ 2.2684419e+00  1.8419304e+00]\n",
      " [-3.1230514e+00 -2.4799700e+00]\n",
      " [-4.4152606e-01 -2.7036908e+00]\n",
      " [ 9.6990496e-01  2.2522497e+00]\n",
      " [-3.0533934e+00 -2.4214897e+00]\n",
      " [-2.8672585e+00 -2.3974378e+00]\n",
      " [-3.8549206e-01 -1.6697278e+00]\n",
      " [ 7.6881856e-01 -3.2215902e-01]\n",
      " [-8.1746566e-01  8.7194031e-01]\n",
      " [-3.9459436e+00  1.1619015e+00]\n",
      " [ 6.4496952e-01 -1.4873562e+00]\n",
      " [ 7.3119789e-01  2.0082095e+00]\n",
      " [-7.7216154e-01 -1.8864584e+00]\n",
      " [-2.9298518e+00 -2.4997692e+00]\n",
      " [ 1.9702673e+00 -2.1969297e+00]\n",
      " [-1.1185641e+00 -1.3271220e+00]\n",
      " [-1.0559671e+00 -1.7630979e-01]\n",
      " [-3.4460819e+00  3.9188212e-01]\n",
      " [ 3.0742729e+00  9.1028374e-01]\n",
      " [ 2.9899485e+00  1.6513438e+00]\n",
      " [ 6.4928216e-01 -2.2837646e+00]\n",
      " [ 1.9360476e+00 -1.8390512e+00]\n",
      " [ 3.0427947e+00 -2.3062657e-01]\n",
      " [-9.0248078e-02 -5.4706275e-01]\n",
      " [ 1.7511919e+00  2.7009211e+00]\n",
      " [-8.0153346e-04 -6.9330025e-01]\n",
      " [ 2.2159605e+00 -3.1631136e+00]\n",
      " [-7.3543251e-02 -2.8772277e-01]\n",
      " [ 3.6339164e-02 -1.8287027e+00]\n",
      " [-2.7055147e-01 -4.6795475e-01]\n",
      " [ 6.0593802e-01 -1.7966855e+00]\n",
      " [-3.0241363e+00  6.5872788e-01]\n",
      " [-3.6787045e+00  9.8722249e-01]\n",
      " [-1.4461067e+00 -2.3228843e+00]\n",
      " [-2.3281474e+00  2.8528500e+00]\n",
      " [-2.2977378e+00 -2.2772470e+00]\n",
      " [-3.3726183e-01 -1.0207385e-01]\n",
      " [ 3.2291524e+00 -6.4144892e-01]\n",
      " [ 2.4249625e-01  2.7421753e+00]\n",
      " [ 1.8852401e+00 -1.8121819e+00]\n",
      " [-1.8706539e+00 -2.2928374e+00]\n",
      " [-7.8358459e-01  3.9862716e-01]\n",
      " [ 3.6580849e-01 -1.7255564e+00]\n",
      " [ 5.8576912e-01  2.4467006e+00]\n",
      " [-3.4887558e-01 -1.2156327e+00]\n",
      " [-2.4960930e+00 -2.1670325e+00]\n",
      " [ 4.8493558e-01 -8.8133526e-01]\n",
      " [-7.3930335e-01 -7.6592726e-01]\n",
      " [-1.6729742e-02 -1.8524845e+00]\n",
      " [-2.1546483e-03 -3.5412803e-01]\n",
      " [-1.3201451e+00  2.2212248e+00]\n",
      " [-1.8345590e+00  9.3882340e-01]\n",
      " [-5.1524276e-01 -3.1889200e-02]]\n"
     ]
    }
   ],
   "source": [
    "# Now the hidden layer (W1 + b1) is actually the word look up table\n",
    "vectors = sess.run(W1 + b1)\n",
    "print(vectors)"
   ]
  },
  {
   "cell_type": "code",
   "execution_count": 29,
   "id": "4e5848ad",
   "metadata": {},
   "outputs": [
    {
     "data": {
      "text/html": [
       "<div>\n",
       "<style scoped>\n",
       "    .dataframe tbody tr th:only-of-type {\n",
       "        vertical-align: middle;\n",
       "    }\n",
       "\n",
       "    .dataframe tbody tr th {\n",
       "        vertical-align: top;\n",
       "    }\n",
       "\n",
       "    .dataframe thead th {\n",
       "        text-align: right;\n",
       "    }\n",
       "</style>\n",
       "<table border=\"1\" class=\"dataframe\">\n",
       "  <thead>\n",
       "    <tr style=\"text-align: right;\">\n",
       "      <th></th>\n",
       "      <th>word</th>\n",
       "      <th>x1</th>\n",
       "      <th>x2</th>\n",
       "    </tr>\n",
       "  </thead>\n",
       "  <tbody>\n",
       "    <tr>\n",
       "      <th>0</th>\n",
       "      <td>Perhaps</td>\n",
       "      <td>-0.154068</td>\n",
       "      <td>-1.995394</td>\n",
       "    </tr>\n",
       "    <tr>\n",
       "      <th>1</th>\n",
       "      <td>vehicle</td>\n",
       "      <td>-2.200433</td>\n",
       "      <td>2.472327</td>\n",
       "    </tr>\n",
       "    <tr>\n",
       "      <th>2</th>\n",
       "      <td>idea</td>\n",
       "      <td>-0.335107</td>\n",
       "      <td>-0.083362</td>\n",
       "    </tr>\n",
       "    <tr>\n",
       "      <th>3</th>\n",
       "      <td>whole</td>\n",
       "      <td>-0.252904</td>\n",
       "      <td>-0.000567</td>\n",
       "    </tr>\n",
       "    <tr>\n",
       "      <th>4</th>\n",
       "      <td>Greek</td>\n",
       "      <td>-0.232571</td>\n",
       "      <td>-0.877923</td>\n",
       "    </tr>\n",
       "    <tr>\n",
       "      <th>...</th>\n",
       "      <td>...</td>\n",
       "      <td>...</td>\n",
       "      <td>...</td>\n",
       "    </tr>\n",
       "    <tr>\n",
       "      <th>61</th>\n",
       "      <td>aspect</td>\n",
       "      <td>-0.016730</td>\n",
       "      <td>-1.852484</td>\n",
       "    </tr>\n",
       "    <tr>\n",
       "      <th>62</th>\n",
       "      <td>away</td>\n",
       "      <td>-0.002155</td>\n",
       "      <td>-0.354128</td>\n",
       "    </tr>\n",
       "    <tr>\n",
       "      <th>63</th>\n",
       "      <td>future</td>\n",
       "      <td>-1.320145</td>\n",
       "      <td>2.221225</td>\n",
       "    </tr>\n",
       "    <tr>\n",
       "      <th>64</th>\n",
       "      <td>path</td>\n",
       "      <td>-1.834559</td>\n",
       "      <td>0.938823</td>\n",
       "    </tr>\n",
       "    <tr>\n",
       "      <th>65</th>\n",
       "      <td>concept</td>\n",
       "      <td>-0.515243</td>\n",
       "      <td>-0.031889</td>\n",
       "    </tr>\n",
       "  </tbody>\n",
       "</table>\n",
       "<p>66 rows × 3 columns</p>\n",
       "</div>"
      ],
      "text/plain": [
       "       word        x1        x2\n",
       "0   Perhaps -0.154068 -1.995394\n",
       "1   vehicle -2.200433  2.472327\n",
       "2      idea -0.335107 -0.083362\n",
       "3     whole -0.252904 -0.000567\n",
       "4     Greek -0.232571 -0.877923\n",
       "..      ...       ...       ...\n",
       "61   aspect -0.016730 -1.852484\n",
       "62     away -0.002155 -0.354128\n",
       "63   future -1.320145  2.221225\n",
       "64     path -1.834559  0.938823\n",
       "65  concept -0.515243 -0.031889\n",
       "\n",
       "[66 rows x 3 columns]"
      ]
     },
     "execution_count": 29,
     "metadata": {},
     "output_type": "execute_result"
    }
   ],
   "source": [
    "#word vector in a table\n",
    "w2v_df = pd.DataFrame(vectors, columns = ['x1', 'x2'])\n",
    "w2v_df['word'] = words\n",
    "w2v_df = w2v_df[['word', 'x1', 'x2']]\n",
    "w2v_df"
   ]
  },
  {
   "cell_type": "code",
   "execution_count": 36,
   "id": "9a5395b0",
   "metadata": {},
   "outputs": [
    {
     "data": {
      "image/png": "[encoded data removed]",
      "text/plain": [
       "<Figure size 1440x1440 with 1 Axes>"
      ]
     },
     "metadata": {
      "needs_background": "light"
     },
     "output_type": "display_data"
    }
   ],
   "source": [
    "#plot word2vec in a 2dim chart\n",
    "import matplotlib.pyplot as plt\n",
    "\n",
    "fig, ax = plt.subplots()\n",
    "\n",
    "for word, x1, x2 in zip(w2v_df['word'], w2v_df['x1'], w2v_df['x2']):\n",
    "    ax.annotate(word, (x1,x2 ))\n",
    "    \n",
    "PADDING = 1.0\n",
    "x_axis_min = np.amin(vectors, axis=0)[0] - PADDING\n",
    "y_axis_min = np.amin(vectors, axis=0)[1] - PADDING\n",
    "x_axis_max = np.amax(vectors, axis=0)[0] + PADDING\n",
    "y_axis_max = np.amax(vectors, axis=0)[1] + PADDING\n",
    " \n",
    "plt.xlim(x_axis_min,x_axis_max)\n",
    "plt.ylim(y_axis_min,y_axis_max)\n",
    "plt.rcParams[\"figure.figsize\"] = (20,20)\n",
    "\n",
    "plt.show()"
   ]
  },
  {
   "cell_type": "code",
   "execution_count": null,
   "id": "a0052788",
   "metadata": {},
   "outputs": [],
   "source": []
  }
 ],
 "metadata": {
  "kernelspec": {
   "display_name": "Python 3",
   "language": "python",
   "name": "python3"
  },
  "language_info": {
   "codemirror_mode": {
    "name": "ipython",
    "version": 3
   },
   "file_extension": ".py",
   "mimetype": "text/x-python",
   "name": "python",
   "nbconvert_exporter": "python",
   "pygments_lexer": "ipython3",
   "version": "3.9.5"
  }
 },
 "nbformat": 4,
 "nbformat_minor": 5
}
